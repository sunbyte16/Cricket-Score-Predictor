{
 "cells": [
  {
   "cell_type": "markdown",
   "metadata": {},
   "source": [
    "# Cricket Score Predictor - Interactive Analysis\n",
    "\n",
    "This notebook provides an interactive environment for exploring cricket data and building predictive models."
   ]
  },
  {
   "cell_type": "markdown",
   "metadata": {},
   "source": [
    "## 1. Setup and Data Loading"
   ]
  },
  {
   "cell_type": "code",
   "execution_count": null,
   "metadata": {},
   "outputs": [],
   "source": [
    "# Import required libraries\n",
    "import pandas as pd\n",
    "import numpy as np\n",
    "import matplotlib.pyplot as plt\n",
    "import seaborn as sns\n",
    "from data_loader import load_cricket_data\n",
    "from data_preprocessor import CricketDataPreprocessor\n",
    "from cricket_predictor import CricketScorePredictor\n",
    "\n",
    "# Set plotting style\n",
    "plt.style.use('default')\n",
    "sns.set_palette(\"husl\")\n",
    "%matplotlib inline"
   ]
  },
  {
   "cell_type": "code",
   "execution_count": null,
   "metadata": {},
   "outputs": [],
   "source": [
    "# Load cricket data\n",
    "print(\"Loading cricket dataset...\")\n",
    "df = load_cricket_data()\n",
    "print(f\"Dataset loaded with shape: {df.shape}\")"
   ]
  },
  {
   "cell_type": "markdown",
   "metadata": {},
   "source": [
    "## 2. Data Exploration"
   ]
  },
  {
   "cell_type": "code",
   "execution_count": null,
   "metadata": {},
   "outputs": [],
   "source": [
    "# Basic data exploration\n",
    "print(\"Dataset Info:\")\n",
    "print(df.info())\n",
    "print(\"\\nFirst 5 rows:\")\n",
    "df.head()"
   ]
  },
  {
   "cell_type": "code",
   "execution_count": null,
   "metadata": {},
   "outputs": [],
   "source": [
    "# Statistical summary\n",
    "print(\"Statistical Summary:\")\n",
    "df.describe()"
   ]
  },
  {
   "cell_type": "code",
   "execution_count": null,
   "metadata": {},
   "outputs": [],
   "source": [
    "# Check for missing values\n",
    "print(\"Missing Values:\")\n",
    "missing_values = df.isnull().sum()\n",
    "missing_values[missing_values > 0]"
   ]
  },
  {
   "cell_type": "markdown",
   "metadata": {},
   "source": [
    "## 3. Data Visualization"
   ]
  },
  {
   "cell_type": "code",
   "execution_count": null,
   "metadata": {},
   "outputs": [],
   "source": [
    "# Score distribution\n",
    "plt.figure(figsize=(15, 5))\n",
    "\n",
    "plt.subplot(1, 3, 1)\n",
    "if 'total' in df.columns:\n",
    "    plt.hist(df['total'], bins=30, alpha=0.7, color='skyblue')\n",
    "    plt.title('Distribution of Total Scores')\n",
    "    plt.xlabel('Total Score')\n",
    "    plt.ylabel('Frequency')\n",
    "\n",
    "plt.subplot(1, 3, 2)\n",
    "if 'runs' in df.columns:\n",
    "    plt.hist(df['runs'], bins=30, alpha=0.7, color='lightgreen')\n",
    "    plt.title('Distribution of Current Runs')\n",
    "    plt.xlabel('Current Runs')\n",
    "    plt.ylabel('Frequency')\n",
    "\n",
    "plt.subplot(1, 3, 3)\n",
    "if 'overs' in df.columns:\n",
    "    plt.hist(df['overs'], bins=30, alpha=0.7, color='salmon')\n",
    "    plt.title('Distribution of Overs')\n",
    "    plt.xlabel('Overs')\n",
    "    plt.ylabel('Frequency')\n",
    "\n",
    "plt.tight_layout()\n",
    "plt.show()"
   ]
  },
  {
   "cell_type": "code",
   "execution_count": null,
   "metadata": {},
   "outputs": [],
   "source": [
    "# Correlation heatmap\n",
    "plt.figure(figsize=(12, 8))\n",
    "numeric_cols = df.select_dtypes(include=[np.number]).columns\n",
    "correlation_matrix = df[numeric_cols].corr()\n",
    "sns.heatmap(correlation_matrix, annot=True, cmap='coolwarm', center=0)\n",
    "plt.title('Correlation Matrix of Numerical Features')\n",
    "plt.show()"
   ]
  },
  {
   "cell_type": "markdown",
   "metadata": {},
   "source": [
    "## 4. Data Preprocessing"
   ]
  },
  {
   "cell_type": "code",
   "execution_count": null,
   "metadata": {},
   "outputs": [],
   "source": [
    "# Initialize preprocessor and process data\n",
    "preprocessor = CricketDataPreprocessor()\n",
    "processed_data, feature_cols = preprocessor.preprocess_data(df)\n",
    "\n",
    "print(f\"Features selected: {len(feature_cols)}\")\n",
    "print(\"Feature columns:\", feature_cols)"
   ]
  },
  {
   "cell_type": "code",
   "execution_count": null,
   "metadata": {},
   "outputs": [],
   "source": [
    "# Prepare train-test split\n",
    "X_train, X_test, y_train, y_test = preprocessor.prepare_train_test_split(\n",
    "    processed_data, feature_cols\n",
    ")\n",
    "\n",
    "print(f\"Training set: {X_train.shape}\")\n",
    "print(f\"Test set: {X_test.shape}\")"
   ]
  },
  {
   "cell_type": "markdown",
   "metadata": {},
   "source": [
    "## 5. Model Training and Evaluation"
   ]
  },
  {
   "cell_type": "code",
   "execution_count": null,
   "metadata": {},
   "outputs": [],
   "source": [
    "# Initialize and train models\n",
    "predictor = CricketScorePredictor()\n",
    "predictor.train_models(X_train, y_train, feature_cols)"
   ]
  },
  {
   "cell_type": "code",
   "execution_count": null,
   "metadata": {},
   "outputs": [],
   "source": [
    "# Evaluate models\n",
    "results = predictor.evaluate_models(X_test, y_test)"
   ]
  },
  {
   "cell_type": "code",
   "execution_count": null,
   "metadata": {},
   "outputs": [],
   "source": [
    "# Plot predictions comparison\n",
    "predictor.plot_predictions(y_test, results)"
   ]
  },
  {
   "cell_type": "code",
   "execution_count": null,
   "metadata": {},
   "outputs": [],
   "source": [
    "# Plot feature importance\n",
    "feature_importance = predictor.plot_feature_importance()\n",
    "if feature_importance is not None:\n",
    "    print(\"\\nTop 10 Most Important Features:\")\n",
    "    print(feature_importance.head(10))"
   ]
  },
  {
   "cell_type": "markdown",
   "metadata": {},
   "source": [
    "## 6. Live Prediction Examples"
   ]
  },
  {
   "cell_type": "code",
   "execution_count": null,
   "metadata": {},
   "outputs": [],
   "source": [
    "# Interactive prediction function\n",
    "def predict_match_score(overs, runs, wickets):\n",
    "    \"\"\"Interactive function to predict match score\"\"\"\n",
    "    try:\n",
    "        prediction = predictor.predict_live_score(overs, runs, wickets)\n",
    "        current_rr = runs / overs if overs > 0 else 0\n",
    "        required_rr = (prediction - runs) / (20 - overs) if overs < 20 else 0\n",
    "        \n",
    "        print(f\"Match Situation: {overs} overs, {runs}/{wickets}\")\n",
    "        print(f\"Current Run Rate: {current_rr:.2f}\")\n",
    "        print(f\"Predicted Final Score: {prediction:.0f}\")\n",
    "        print(f\"Required Run Rate: {required_rr:.2f}\")\n",
    "        print(\"-\" * 40)\n",
    "        \n",
    "        return prediction\n",
    "    except Exception as e:\n",
    "        print(f\"Error: {e}\")\n",
    "        return None\n",
    "\n",
    "# Example predictions\n",
    "print(\"Live Prediction Examples:\")\n",
    "print(\"=\" * 40)\n",
    "\n",
    "scenarios = [\n",
    "    (6.0, 55, 2),   # End of powerplay\n",
    "    (10.0, 90, 3),  # Middle overs\n",
    "    (15.0, 135, 5), # Death overs approach\n",
    "    (18.0, 165, 7)  # Final overs\n",
    "]\n",
    "\n",
    "for overs, runs, wickets in scenarios:\n",
    "    predict_match_score(overs, runs, wickets)"
   ]
  },
  {
   "cell_type": "markdown",
   "metadata": {},
   "source": [
    "## 7. Model Saving and Loading"
   ]
  },
  {
   "cell_type": "code",
   "execution_count": null,
   "metadata": {},
   "outputs": [],
   "source": [
    "# Save the best model\n",
    "predictor.save_model('cricket_model_notebook.pkl')\n",
    "print(\"Model saved successfully!\")"
   ]
  },
  {
   "cell_type": "markdown",
   "metadata": {},
   "source": [
    "## 8. Custom Predictions\n",
    "\n",
    "Use the cell below to make your own predictions by changing the values:"
   ]
  },
  {
   "cell_type": "code",
   "execution_count": null,
   "metadata": {},
   "outputs": [],
   "source": [
    "# Customize these values for your prediction\n",
    "custom_overs = 12.0\n",
    "custom_runs = 95\n",
    "custom_wickets = 4\n",
    "\n",
    "# Make prediction\n",
    "custom_prediction = predict_match_score(custom_overs, custom_runs, custom_wickets)"
   ]
  },
  {
   "cell_type": "markdown",
   "metadata": {},
   "source": [
    "## 9. Summary\n",
    "\n",
    "This notebook demonstrates:\n",
    "- Loading and exploring cricket match data\n",
    "- Data preprocessing and feature engineering\n",
    "- Training multiple machine learning models\n",
    "- Evaluating model performance\n",
    "- Making live score predictions\n",
    "\n",
    "The best performing model can be used for real-time score predictions during cricket matches!"
   ]
  }
 ],
 "metadata": {
  "kernelspec": {
   "display_name": "Python 3",
   "language": "python",
   "name": "python3"
  },
  "language_info": {
   "codemirror_mode": {
    "name": "ipython",
    "version": 3
   },
   "file_extension": ".py",
   "mimetype": "text/x-python",
   "name": "python",
   "nbconvert_exporter": "python",
   "pygments_lexer": "ipython3",
   "version": "3.8.0"
  }
 },
 "nbformat": 4,
 "nbformat_minor": 4
}